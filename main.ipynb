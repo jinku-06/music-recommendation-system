{
 "cells": [
  {
   "cell_type": "code",
   "execution_count": 36,
   "metadata": {},
   "outputs": [],
   "source": [
    "import pandas as pd\n",
    "import nltk\n",
    "from nltk.stem import PorterStemmer\n",
    "import pickle\n",
    "from sklearn.feature_extraction.text import TfidfVectorizer\n",
    "from sklearn.metrics.pairwise import cosine_similarity"
   ]
  },
  {
   "cell_type": "code",
   "execution_count": 37,
   "metadata": {},
   "outputs": [],
   "source": [
    "df = pd.read_csv('spotify_millsongdata.csv')"
   ]
  },
  {
   "cell_type": "code",
   "execution_count": 38,
   "metadata": {},
   "outputs": [
    {
     "data": {
      "text/html": [
       "<div>\n",
       "<style scoped>\n",
       "    .dataframe tbody tr th:only-of-type {\n",
       "        vertical-align: middle;\n",
       "    }\n",
       "\n",
       "    .dataframe tbody tr th {\n",
       "        vertical-align: top;\n",
       "    }\n",
       "\n",
       "    .dataframe thead th {\n",
       "        text-align: right;\n",
       "    }\n",
       "</style>\n",
       "<table border=\"1\" class=\"dataframe\">\n",
       "  <thead>\n",
       "    <tr style=\"text-align: right;\">\n",
       "      <th></th>\n",
       "      <th>artist</th>\n",
       "      <th>song</th>\n",
       "      <th>link</th>\n",
       "      <th>text</th>\n",
       "    </tr>\n",
       "  </thead>\n",
       "  <tbody>\n",
       "    <tr>\n",
       "      <th>0</th>\n",
       "      <td>ABBA</td>\n",
       "      <td>Ahe's My Kind Of Girl</td>\n",
       "      <td>/a/abba/ahes+my+kind+of+girl_20598417.html</td>\n",
       "      <td>Look at her face, it's a wonderful face  \\r\\nA...</td>\n",
       "    </tr>\n",
       "    <tr>\n",
       "      <th>1</th>\n",
       "      <td>ABBA</td>\n",
       "      <td>Andante, Andante</td>\n",
       "      <td>/a/abba/andante+andante_20002708.html</td>\n",
       "      <td>Take it easy with me, please  \\r\\nTouch me gen...</td>\n",
       "    </tr>\n",
       "    <tr>\n",
       "      <th>2</th>\n",
       "      <td>ABBA</td>\n",
       "      <td>As Good As New</td>\n",
       "      <td>/a/abba/as+good+as+new_20003033.html</td>\n",
       "      <td>I'll never know why I had to go  \\r\\nWhy I had...</td>\n",
       "    </tr>\n",
       "    <tr>\n",
       "      <th>3</th>\n",
       "      <td>ABBA</td>\n",
       "      <td>Bang</td>\n",
       "      <td>/a/abba/bang_20598415.html</td>\n",
       "      <td>Making somebody happy is a question of give an...</td>\n",
       "    </tr>\n",
       "    <tr>\n",
       "      <th>4</th>\n",
       "      <td>ABBA</td>\n",
       "      <td>Bang-A-Boomerang</td>\n",
       "      <td>/a/abba/bang+a+boomerang_20002668.html</td>\n",
       "      <td>Making somebody happy is a question of give an...</td>\n",
       "    </tr>\n",
       "  </tbody>\n",
       "</table>\n",
       "</div>"
      ],
      "text/plain": [
       "  artist                   song                                        link  \\\n",
       "0   ABBA  Ahe's My Kind Of Girl  /a/abba/ahes+my+kind+of+girl_20598417.html   \n",
       "1   ABBA       Andante, Andante       /a/abba/andante+andante_20002708.html   \n",
       "2   ABBA         As Good As New        /a/abba/as+good+as+new_20003033.html   \n",
       "3   ABBA                   Bang                  /a/abba/bang_20598415.html   \n",
       "4   ABBA       Bang-A-Boomerang      /a/abba/bang+a+boomerang_20002668.html   \n",
       "\n",
       "                                                text  \n",
       "0  Look at her face, it's a wonderful face  \\r\\nA...  \n",
       "1  Take it easy with me, please  \\r\\nTouch me gen...  \n",
       "2  I'll never know why I had to go  \\r\\nWhy I had...  \n",
       "3  Making somebody happy is a question of give an...  \n",
       "4  Making somebody happy is a question of give an...  "
      ]
     },
     "execution_count": 38,
     "metadata": {},
     "output_type": "execute_result"
    }
   ],
   "source": [
    "df.head()"
   ]
  },
  {
   "cell_type": "code",
   "execution_count": 39,
   "metadata": {},
   "outputs": [
    {
     "data": {
      "text/plain": [
       "(57650, 4)"
      ]
     },
     "execution_count": 39,
     "metadata": {},
     "output_type": "execute_result"
    }
   ],
   "source": [
    "df.shape"
   ]
  },
  {
   "cell_type": "code",
   "execution_count": 40,
   "metadata": {},
   "outputs": [
    {
     "data": {
      "text/plain": [
       "artist    0\n",
       "song      0\n",
       "link      0\n",
       "text      0\n",
       "dtype: int64"
      ]
     },
     "execution_count": 40,
     "metadata": {},
     "output_type": "execute_result"
    }
   ],
   "source": [
    "df.isnull().sum()"
   ]
  },
  {
   "cell_type": "code",
   "execution_count": 41,
   "metadata": {},
   "outputs": [
    {
     "data": {
      "text/plain": [
       "artist    False\n",
       "song      False\n",
       "link      False\n",
       "text      False\n",
       "dtype: bool"
      ]
     },
     "execution_count": 41,
     "metadata": {},
     "output_type": "execute_result"
    }
   ],
   "source": [
    "df.isna().any()"
   ]
  },
  {
   "cell_type": "code",
   "execution_count": 42,
   "metadata": {},
   "outputs": [],
   "source": [
    "df = df.sample(2000).drop('link',axis=1).reset_index(drop=True)"
   ]
  },
  {
   "cell_type": "code",
   "execution_count": 43,
   "metadata": {},
   "outputs": [
    {
     "data": {
      "text/html": [
       "<div>\n",
       "<style scoped>\n",
       "    .dataframe tbody tr th:only-of-type {\n",
       "        vertical-align: middle;\n",
       "    }\n",
       "\n",
       "    .dataframe tbody tr th {\n",
       "        vertical-align: top;\n",
       "    }\n",
       "\n",
       "    .dataframe thead th {\n",
       "        text-align: right;\n",
       "    }\n",
       "</style>\n",
       "<table border=\"1\" class=\"dataframe\">\n",
       "  <thead>\n",
       "    <tr style=\"text-align: right;\">\n",
       "      <th></th>\n",
       "      <th>artist</th>\n",
       "      <th>song</th>\n",
       "      <th>text</th>\n",
       "    </tr>\n",
       "  </thead>\n",
       "  <tbody>\n",
       "    <tr>\n",
       "      <th>0</th>\n",
       "      <td>Proclaimers</td>\n",
       "      <td>Beautiful Truth</td>\n",
       "      <td>Beautiful beautiful beautiful truth  \\r\\nDon't...</td>\n",
       "    </tr>\n",
       "    <tr>\n",
       "      <th>1</th>\n",
       "      <td>Oasis</td>\n",
       "      <td>Waiting For The Rapture</td>\n",
       "      <td>I still don't know what I was waiting for  \\r\\...</td>\n",
       "    </tr>\n",
       "    <tr>\n",
       "      <th>2</th>\n",
       "      <td>Van Halen</td>\n",
       "      <td>Summer Nights</td>\n",
       "      <td>Ain't no way I'm stayin' home tonight  \\r\\nI'l...</td>\n",
       "    </tr>\n",
       "    <tr>\n",
       "      <th>3</th>\n",
       "      <td>Steve Miller Band</td>\n",
       "      <td>Wild Mountain Honey</td>\n",
       "      <td>Ooh, mama  \\r\\nWell look what's been done  \\r\\...</td>\n",
       "    </tr>\n",
       "    <tr>\n",
       "      <th>4</th>\n",
       "      <td>YG</td>\n",
       "      <td>My Hitta</td>\n",
       "      <td>I said that I'mma ride for my motherfuckin' hi...</td>\n",
       "    </tr>\n",
       "  </tbody>\n",
       "</table>\n",
       "</div>"
      ],
      "text/plain": [
       "              artist                     song  \\\n",
       "0        Proclaimers          Beautiful Truth   \n",
       "1              Oasis  Waiting For The Rapture   \n",
       "2          Van Halen            Summer Nights   \n",
       "3  Steve Miller Band      Wild Mountain Honey   \n",
       "4                 YG                 My Hitta   \n",
       "\n",
       "                                                text  \n",
       "0  Beautiful beautiful beautiful truth  \\r\\nDon't...  \n",
       "1  I still don't know what I was waiting for  \\r\\...  \n",
       "2  Ain't no way I'm stayin' home tonight  \\r\\nI'l...  \n",
       "3  Ooh, mama  \\r\\nWell look what's been done  \\r\\...  \n",
       "4  I said that I'mma ride for my motherfuckin' hi...  "
      ]
     },
     "execution_count": 43,
     "metadata": {},
     "output_type": "execute_result"
    }
   ],
   "source": [
    "df.head()"
   ]
  },
  {
   "cell_type": "code",
   "execution_count": 44,
   "metadata": {},
   "outputs": [
    {
     "data": {
      "text/plain": [
       "\"Beautiful beautiful beautiful truth  \\r\\nDon't leave because I can't see you  \\r\\nYou know the hours that I passed without you  \\r\\nEvery heartbeat that I chose to flout you  \\r\\nAnd how I felt no shame  \\r\\nI know this problem is of my own making  \\r\\nI know you're giving here and I'm not taking  \\r\\nBut please don't leave this place  \\r\\nLet me complicate what you made simple  \\r\\nBy looking fancy or sounding boastful  \\r\\nPlease bring me down  \\r\\nArid now that I have said what's on my mind  \\r\\nAnd its obvious that I am blind  \\r\\nPlease say you'll stay  \\r\\nSpin me round  \\r\\nBring me down  \\r\\nHe my sound  \\r\\nBut don't leave.\\r\\n\\r\\n\""
      ]
     },
     "execution_count": 44,
     "metadata": {},
     "output_type": "execute_result"
    }
   ],
   "source": [
    "df['text'][0]"
   ]
  },
  {
   "cell_type": "code",
   "execution_count": 45,
   "metadata": {},
   "outputs": [
    {
     "data": {
      "text/plain": [
       "(2000, 3)"
      ]
     },
     "execution_count": 45,
     "metadata": {},
     "output_type": "execute_result"
    }
   ],
   "source": [
    "df.shape"
   ]
  },
  {
   "cell_type": "code",
   "execution_count": 46,
   "metadata": {},
   "outputs": [],
   "source": [
    "df['text'] = df['text'].str.lower().replace(r'\\w\\s', '').replace(r'\\n','',regex=True)"
   ]
  },
  {
   "cell_type": "code",
   "execution_count": 47,
   "metadata": {},
   "outputs": [
    {
     "data": {
      "text/html": [
       "<div>\n",
       "<style scoped>\n",
       "    .dataframe tbody tr th:only-of-type {\n",
       "        vertical-align: middle;\n",
       "    }\n",
       "\n",
       "    .dataframe tbody tr th {\n",
       "        vertical-align: top;\n",
       "    }\n",
       "\n",
       "    .dataframe thead th {\n",
       "        text-align: right;\n",
       "    }\n",
       "</style>\n",
       "<table border=\"1\" class=\"dataframe\">\n",
       "  <thead>\n",
       "    <tr style=\"text-align: right;\">\n",
       "      <th></th>\n",
       "      <th>artist</th>\n",
       "      <th>song</th>\n",
       "      <th>text</th>\n",
       "    </tr>\n",
       "  </thead>\n",
       "  <tbody>\n",
       "    <tr>\n",
       "      <th>1995</th>\n",
       "      <td>Cher</td>\n",
       "      <td>Fit To Fly</td>\n",
       "      <td>oh, brother, man where are you?  \\ri am buckli...</td>\n",
       "    </tr>\n",
       "    <tr>\n",
       "      <th>1996</th>\n",
       "      <td>Smiths</td>\n",
       "      <td>Unhappy Birthday</td>\n",
       "      <td>i've come to wish you an unhappy birthday  \\ri...</td>\n",
       "    </tr>\n",
       "    <tr>\n",
       "      <th>1997</th>\n",
       "      <td>Rod Stewart</td>\n",
       "      <td>Our Love Is Here To Stay</td>\n",
       "      <td>it's very clear, our love is here to stay  \\rn...</td>\n",
       "    </tr>\n",
       "    <tr>\n",
       "      <th>1998</th>\n",
       "      <td>Thin Lizzy</td>\n",
       "      <td>Johnny</td>\n",
       "      <td>somewhere on the waterfront  \\rjohnny's hiding...</td>\n",
       "    </tr>\n",
       "    <tr>\n",
       "      <th>1999</th>\n",
       "      <td>Train</td>\n",
       "      <td>I Got You</td>\n",
       "      <td>hey, did you hear, about the one that got away...</td>\n",
       "    </tr>\n",
       "  </tbody>\n",
       "</table>\n",
       "</div>"
      ],
      "text/plain": [
       "           artist                      song  \\\n",
       "1995         Cher                Fit To Fly   \n",
       "1996       Smiths          Unhappy Birthday   \n",
       "1997  Rod Stewart  Our Love Is Here To Stay   \n",
       "1998   Thin Lizzy                    Johnny   \n",
       "1999        Train                 I Got You   \n",
       "\n",
       "                                                   text  \n",
       "1995  oh, brother, man where are you?  \\ri am buckli...  \n",
       "1996  i've come to wish you an unhappy birthday  \\ri...  \n",
       "1997  it's very clear, our love is here to stay  \\rn...  \n",
       "1998  somewhere on the waterfront  \\rjohnny's hiding...  \n",
       "1999  hey, did you hear, about the one that got away...  "
      ]
     },
     "execution_count": 47,
     "metadata": {},
     "output_type": "execute_result"
    }
   ],
   "source": [
    "df.tail()"
   ]
  },
  {
   "cell_type": "code",
   "execution_count": 48,
   "metadata": {},
   "outputs": [],
   "source": [
    "stemmer = PorterStemmer()\n"
   ]
  },
  {
   "cell_type": "code",
   "execution_count": 49,
   "metadata": {},
   "outputs": [],
   "source": [
    "# -- Download punkt_tab for word tokenize (try punkt if this does not work)\n",
    "\n",
    "# nltk.download('punkt_tab')"
   ]
  },
  {
   "cell_type": "code",
   "execution_count": 50,
   "metadata": {},
   "outputs": [],
   "source": [
    "def token(text):\n",
    "    tokens = nltk.word_tokenize(text)\n",
    "    a = [stemmer.stem(w) for w in tokens] \n",
    "    return \" \".join(a)"
   ]
  },
  {
   "cell_type": "code",
   "execution_count": 51,
   "metadata": {},
   "outputs": [
    {
     "data": {
      "text/plain": [
       "'you are beauti'"
      ]
     },
     "execution_count": 51,
     "metadata": {},
     "output_type": "execute_result"
    }
   ],
   "source": [
    "token(text=\"you are beautiful\")"
   ]
  },
  {
   "cell_type": "code",
   "execution_count": 52,
   "metadata": {},
   "outputs": [
    {
     "data": {
      "text/plain": [
       "0       beauti beauti beauti truth do n't leav becaus ...\n",
       "1       i still do n't know what i wa wait for a big l...\n",
       "2       ai n't no way i 'm stayin ' home tonight i 'll...\n",
       "3       ooh , mama well look what 's been done you can...\n",
       "4       i said that i'mma ride for my motherfuckin ' h...\n",
       "                              ...                        \n",
       "1995    oh , brother , man where are you ? i am buckli...\n",
       "1996    i 've come to wish you an unhappi birthday i '...\n",
       "1997    it 's veri clear , our love is here to stay no...\n",
       "1998    somewher on the waterfront johnni 's hide with...\n",
       "1999    hey , did you hear , about the one that got aw...\n",
       "Name: text, Length: 2000, dtype: object"
      ]
     },
     "execution_count": 52,
     "metadata": {},
     "output_type": "execute_result"
    }
   ],
   "source": [
    "df['text'].apply(lambda x: token(x))"
   ]
  },
  {
   "cell_type": "code",
   "execution_count": 54,
   "metadata": {},
   "outputs": [],
   "source": [
    "tfid = TfidfVectorizer(analyzer='word',stop_words='english')"
   ]
  },
  {
   "cell_type": "code",
   "execution_count": 55,
   "metadata": {},
   "outputs": [],
   "source": [
    "matrix = tfid.fit_transform(df['text'])"
   ]
  },
  {
   "cell_type": "code",
   "execution_count": 56,
   "metadata": {},
   "outputs": [
    {
     "data": {
      "text/plain": [
       "array([[1.        , 0.07664735, 0.02667362, ..., 0.04885312, 0.01184477,\n",
       "        0.04168566],\n",
       "       [0.07664735, 1.        , 0.04000909, ..., 0.0162763 , 0.01028295,\n",
       "        0.08740471],\n",
       "       [0.02667362, 0.04000909, 1.        , ..., 0.08362571, 0.05759719,\n",
       "        0.07710619],\n",
       "       ...,\n",
       "       [0.04885312, 0.0162763 , 0.08362571, ..., 1.        , 0.04661837,\n",
       "        0.04453986],\n",
       "       [0.01184477, 0.01028295, 0.05759719, ..., 0.04661837, 1.        ,\n",
       "        0.0423993 ],\n",
       "       [0.04168566, 0.08740471, 0.07710619, ..., 0.04453986, 0.0423993 ,\n",
       "        1.        ]])"
      ]
     },
     "execution_count": 56,
     "metadata": {},
     "output_type": "execute_result"
    }
   ],
   "source": [
    "cosine_similarity(matrix)"
   ]
  },
  {
   "cell_type": "code",
   "execution_count": 57,
   "metadata": {},
   "outputs": [],
   "source": [
    "similer = cosine_similarity(matrix)"
   ]
  },
  {
   "cell_type": "code",
   "execution_count": 58,
   "metadata": {},
   "outputs": [
    {
     "data": {
      "text/plain": [
       "array([1.        , 0.07664735, 0.02667362, ..., 0.04885312, 0.01184477,\n",
       "       0.04168566])"
      ]
     },
     "execution_count": 58,
     "metadata": {},
     "output_type": "execute_result"
    }
   ],
   "source": [
    "similer[0]"
   ]
  },
  {
   "cell_type": "code",
   "execution_count": 59,
   "metadata": {},
   "outputs": [
    {
     "data": {
      "text/html": [
       "<div>\n",
       "<style scoped>\n",
       "    .dataframe tbody tr th:only-of-type {\n",
       "        vertical-align: middle;\n",
       "    }\n",
       "\n",
       "    .dataframe tbody tr th {\n",
       "        vertical-align: top;\n",
       "    }\n",
       "\n",
       "    .dataframe thead th {\n",
       "        text-align: right;\n",
       "    }\n",
       "</style>\n",
       "<table border=\"1\" class=\"dataframe\">\n",
       "  <thead>\n",
       "    <tr style=\"text-align: right;\">\n",
       "      <th></th>\n",
       "      <th>artist</th>\n",
       "      <th>song</th>\n",
       "      <th>text</th>\n",
       "    </tr>\n",
       "  </thead>\n",
       "  <tbody>\n",
       "    <tr>\n",
       "      <th>1995</th>\n",
       "      <td>Cher</td>\n",
       "      <td>Fit To Fly</td>\n",
       "      <td>oh, brother, man where are you?  \\ri am buckli...</td>\n",
       "    </tr>\n",
       "    <tr>\n",
       "      <th>1996</th>\n",
       "      <td>Smiths</td>\n",
       "      <td>Unhappy Birthday</td>\n",
       "      <td>i've come to wish you an unhappy birthday  \\ri...</td>\n",
       "    </tr>\n",
       "    <tr>\n",
       "      <th>1997</th>\n",
       "      <td>Rod Stewart</td>\n",
       "      <td>Our Love Is Here To Stay</td>\n",
       "      <td>it's very clear, our love is here to stay  \\rn...</td>\n",
       "    </tr>\n",
       "    <tr>\n",
       "      <th>1998</th>\n",
       "      <td>Thin Lizzy</td>\n",
       "      <td>Johnny</td>\n",
       "      <td>somewhere on the waterfront  \\rjohnny's hiding...</td>\n",
       "    </tr>\n",
       "    <tr>\n",
       "      <th>1999</th>\n",
       "      <td>Train</td>\n",
       "      <td>I Got You</td>\n",
       "      <td>hey, did you hear, about the one that got away...</td>\n",
       "    </tr>\n",
       "  </tbody>\n",
       "</table>\n",
       "</div>"
      ],
      "text/plain": [
       "           artist                      song  \\\n",
       "1995         Cher                Fit To Fly   \n",
       "1996       Smiths          Unhappy Birthday   \n",
       "1997  Rod Stewart  Our Love Is Here To Stay   \n",
       "1998   Thin Lizzy                    Johnny   \n",
       "1999        Train                 I Got You   \n",
       "\n",
       "                                                   text  \n",
       "1995  oh, brother, man where are you?  \\ri am buckli...  \n",
       "1996  i've come to wish you an unhappy birthday  \\ri...  \n",
       "1997  it's very clear, our love is here to stay  \\rn...  \n",
       "1998  somewhere on the waterfront  \\rjohnny's hiding...  \n",
       "1999  hey, did you hear, about the one that got away...  "
      ]
     },
     "execution_count": 59,
     "metadata": {},
     "output_type": "execute_result"
    }
   ],
   "source": [
    "df.tail()"
   ]
  },
  {
   "cell_type": "code",
   "execution_count": 66,
   "metadata": {},
   "outputs": [],
   "source": [
    "def recommender(song_name):\n",
    "    # Checks if the song exists in the DataFrame\n",
    "    if song_name not in df['song'].values:\n",
    "        return f\"'{song_name}' not found in the dataset.\"\n",
    "\n",
    "    # Get the index of the song\n",
    "    idx = df[df['song'] == song_name].index[0]\n",
    "\n",
    "    # Sort the distances\n",
    "    distance = sorted(list(enumerate(similer[idx])), reverse=True, key=lambda x: x[1])\n",
    "\n",
    "    # Get the top 4 recommendations (excluding the original song)\n",
    "    song = []\n",
    "    for id in distance[1:21]: \n",
    "        song.append(df.iloc[id[0]].song)\n",
    "\n",
    "    return song\n"
   ]
  },
  {
   "cell_type": "code",
   "execution_count": 67,
   "metadata": {},
   "outputs": [
    {
     "data": {
      "text/plain": [
       "['Birthday',\n",
       " 'Happy Birthday',\n",
       " 'You Say Jump',\n",
       " 'Since My Love Has Gone',\n",
       " 'Shots In My System',\n",
       " 'Sometimes',\n",
       " 'Happy',\n",
       " \"Can't Die Tonight\",\n",
       " 'Since I Lost My Baby',\n",
       " \"I'll Be There For You\",\n",
       " \"I Don't Know Why\",\n",
       " \"Baby Won't You Please Come Home\",\n",
       " 'Can You Come Over',\n",
       " 'Come Back And See Me',\n",
       " 'Friend Of Mine',\n",
       " 'Half Loved',\n",
       " 'Lost In Your Love',\n",
       " 'All Tore Up',\n",
       " \"I Don't Care\",\n",
       " 'Lonely People']"
      ]
     },
     "execution_count": 67,
     "metadata": {},
     "output_type": "execute_result"
    }
   ],
   "source": [
    "recommender('Unhappy Birthday')"
   ]
  },
  {
   "cell_type": "code",
   "execution_count": 71,
   "metadata": {},
   "outputs": [],
   "source": [
    "pickle.dump(similer,open('similarity.pkl', 'wb'))"
   ]
  },
  {
   "cell_type": "code",
   "execution_count": 72,
   "metadata": {},
   "outputs": [],
   "source": [
    "pickle.dump(df,open('df.pkl','wb'))"
   ]
  },
  {
   "cell_type": "code",
   "execution_count": 77,
   "metadata": {},
   "outputs": [
    {
     "data": {
      "text/html": [
       "<div>\n",
       "<style scoped>\n",
       "    .dataframe tbody tr th:only-of-type {\n",
       "        vertical-align: middle;\n",
       "    }\n",
       "\n",
       "    .dataframe tbody tr th {\n",
       "        vertical-align: top;\n",
       "    }\n",
       "\n",
       "    .dataframe thead th {\n",
       "        text-align: right;\n",
       "    }\n",
       "</style>\n",
       "<table border=\"1\" class=\"dataframe\">\n",
       "  <thead>\n",
       "    <tr style=\"text-align: right;\">\n",
       "      <th></th>\n",
       "      <th>artist</th>\n",
       "      <th>song</th>\n",
       "      <th>text</th>\n",
       "    </tr>\n",
       "  </thead>\n",
       "  <tbody>\n",
       "    <tr>\n",
       "      <th>757</th>\n",
       "      <td>Chaka Khan</td>\n",
       "      <td>Some Love</td>\n",
       "      <td>(chorus):  \\rsome love  \\ryou know it brings m...</td>\n",
       "    </tr>\n",
       "  </tbody>\n",
       "</table>\n",
       "</div>"
      ],
      "text/plain": [
       "         artist       song                                               text\n",
       "757  Chaka Khan  Some Love  (chorus):  \\rsome love  \\ryou know it brings m..."
      ]
     },
     "execution_count": 77,
     "metadata": {},
     "output_type": "execute_result"
    }
   ],
   "source": [
    "df[df['song'] == 'Some Love']"
   ]
  },
  {
   "cell_type": "code",
   "execution_count": null,
   "metadata": {},
   "outputs": [],
   "source": []
  }
 ],
 "metadata": {
  "kernelspec": {
   "display_name": ".venv",
   "language": "python",
   "name": "python3"
  },
  "language_info": {
   "codemirror_mode": {
    "name": "ipython",
    "version": 3
   },
   "file_extension": ".py",
   "mimetype": "text/x-python",
   "name": "python",
   "nbconvert_exporter": "python",
   "pygments_lexer": "ipython3",
   "version": "3.12.4"
  }
 },
 "nbformat": 4,
 "nbformat_minor": 2
}
